{
 "cells": [
  {
   "cell_type": "markdown",
   "id": "2134b300",
   "metadata": {},
   "source": [
    "Feature Engineering"
   ]
  },
  {
   "cell_type": "code",
   "execution_count": 1,
   "id": "3e0cf561",
   "metadata": {},
   "outputs": [
    {
     "name": "stdout",
     "output_type": "stream",
     "text": [
      "Bentuk akhir dataset: (44328, 185)\n"
     ]
    }
   ],
   "source": [
    "import pandas as pd\n",
    "\n",
    "# Load data hasil imputasi gender\n",
    "df = pd.read_csv(\"data_travel_insurance_cleaned.csv\")\n",
    "\n",
    "# Identifikasi kolom kategorikal, kecuali target 'Claim'\n",
    "categorical_features = ['Agency', 'Agency Type', 'Distribution Channel', \n",
    "                        'Product Name', 'Gender', 'Destination']\n",
    "\n",
    "# Lakukan One-Hot Encoding\n",
    "df_encoded = pd.get_dummies(df, columns=categorical_features, drop_first=True)\n",
    "\n",
    "# Lihat dimensi data setelah encoding\n",
    "print(f\"Bentuk akhir dataset: {df_encoded.shape}\")"
   ]
  },
  {
   "cell_type": "code",
   "execution_count": 2,
   "id": "1ad3a6db",
   "metadata": {},
   "outputs": [
    {
     "name": "stdout",
     "output_type": "stream",
     "text": [
      "File CSV hasil encoding berhasil disimpan.\n"
     ]
    }
   ],
   "source": [
    "# Simpan data hasil one-hot encoding\n",
    "df_encoded.to_csv(\"data_travel_insurance_encoded.csv\", index=False)\n",
    "print(\"File CSV hasil encoding berhasil disimpan.\")\n"
   ]
  }
 ],
 "metadata": {
  "kernelspec": {
   "display_name": "Python 3",
   "language": "python",
   "name": "python3"
  },
  "language_info": {
   "codemirror_mode": {
    "name": "ipython",
    "version": 3
   },
   "file_extension": ".py",
   "mimetype": "text/x-python",
   "name": "python",
   "nbconvert_exporter": "python",
   "pygments_lexer": "ipython3",
   "version": "3.9.6"
  }
 },
 "nbformat": 4,
 "nbformat_minor": 5
}
