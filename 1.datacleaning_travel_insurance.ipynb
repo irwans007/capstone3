{
 "cells": [
  {
   "cell_type": "markdown",
   "id": "49f7b293",
   "metadata": {},
   "source": [
    "## 2. Data Cleaning "
   ]
  },
  {
   "cell_type": "code",
   "execution_count": 2,
   "id": "8ae27d00",
   "metadata": {},
   "outputs": [
    {
     "name": "stdout",
     "output_type": "stream",
     "text": [
      "Missing value sebelum imputasi:\n",
      "Agency                      0\n",
      "Agency Type                 0\n",
      "Distribution Channel        0\n",
      "Product Name                0\n",
      "Gender                  31647\n",
      "Duration                    0\n",
      "Destination                 0\n",
      "Net Sales                   0\n",
      "Commision (in value)        0\n",
      "Age                         0\n",
      "Claim                       0\n",
      "dtype: int64\n",
      "\n",
      "Missing value setelah imputasi:\n",
      "Agency                  0\n",
      "Agency Type             0\n",
      "Distribution Channel    0\n",
      "Product Name            0\n",
      "Gender                  0\n",
      "Duration                0\n",
      "Destination             0\n",
      "Net Sales               0\n",
      "Commision (in value)    0\n",
      "Age                     0\n",
      "Claim                   0\n",
      "dtype: int64\n"
     ]
    },
    {
     "name": "stderr",
     "output_type": "stream",
     "text": [
      "/var/folders/r3/cf5ngjqs1vs18t9bnw8ppvpc0000gn/T/ipykernel_1853/509557047.py:11: FutureWarning: A value is trying to be set on a copy of a DataFrame or Series through chained assignment using an inplace method.\n",
      "The behavior will change in pandas 3.0. This inplace method will never work because the intermediate object on which we are setting values always behaves as a copy.\n",
      "\n",
      "For example, when doing 'df[col].method(value, inplace=True)', try using 'df.method({col: value}, inplace=True)' or df[col] = df[col].method(value) instead, to perform the operation inplace on the original object.\n",
      "\n",
      "\n",
      "  df['Gender'].fillna(df['Gender'].mode()[0], inplace=True)\n"
     ]
    }
   ],
   "source": [
    "import pandas as pd\n",
    "\n",
    "# Load data\n",
    "df = pd.read_csv(\"data_travel_insurance.csv\")\n",
    "\n",
    "# Lihat jumlah missing value per kolom\n",
    "print(\"Missing value sebelum imputasi:\")\n",
    "print(df.isnull().sum())\n",
    "\n",
    "# Imputasi kolom 'Gender' dengan modus (\n",
    "df['Gender'].fillna(df['Gender'].mode()[0], inplace=True)\n",
    "\n",
    "# Verifikasi hasil imputasi\n",
    "print(\"\\nMissing value setelah imputasi:\")\n",
    "print(df.isnull().sum())\n",
    "\n",
    "# Simpan data yang sudah dibersihkan\n",
    "df.to_csv(\"data_travel_insurance_cleaned.csv\", index=False)\n"
   ]
  }
 ],
 "metadata": {
  "kernelspec": {
   "display_name": "Python 3",
   "language": "python",
   "name": "python3"
  },
  "language_info": {
   "codemirror_mode": {
    "name": "ipython",
    "version": 3
   },
   "file_extension": ".py",
   "mimetype": "text/x-python",
   "name": "python",
   "nbconvert_exporter": "python",
   "pygments_lexer": "ipython3",
   "version": "3.9.6"
  }
 },
 "nbformat": 4,
 "nbformat_minor": 5
}
